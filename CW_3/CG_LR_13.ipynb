{
 "cells": [
  {
   "cell_type": "code",
   "execution_count": 1,
   "metadata": {},
   "outputs": [],
   "source": [
    "import numpy as np\n",
    "from matplotlib import pyplot as plt"
   ]
  },
  {
   "cell_type": "code",
   "execution_count": 2,
   "metadata": {},
   "outputs": [],
   "source": [
    "def DrawLine(x0, y0, x1, y1, clr, vp):\n",
    "    steep = abs(y1 - y0) > abs(x1 - x0) # Крутизна\n",
    "    if steep: # Обмен X, Y, если угол наклона отрезка более 45º\n",
    "        x0, y0 = y0, x0\n",
    "        x1, y1 = y1, x1\n",
    "    if x0 > x1: # Приводим к базовой форме алгоритма, в которой x0 < x1\n",
    "        x0, x1 = x1, x0\n",
    "        y0, y1 = y1, y0\n",
    "    dx = x1 - x0\n",
    "    dy = abs(y1 - y0)\n",
    "    dx2 = 2 * dx\n",
    "    dy2 = 2 * dy\n",
    "    d = -dx\n",
    "    y_step = 1 if y0 < y1 else -1 # Шаг по Y\n",
    "    y = y0\n",
    "    x = x0\n",
    "    while x <= x1:\n",
    "        if steep: # Помним о перестановках\n",
    "            xp, yp = y, x\n",
    "        else:\n",
    "            xp, yp = x, y\n",
    "        vp[yp, xp - 1 : xp + 2] = clr # 3 пиксела\n",
    "        d = d + dy2\n",
    "        if d > 0:\n",
    "            y = y + y_step\n",
    "            d = d - dx2\n",
    "        x = x + 1"
   ]
  },
  {
   "cell_type": "code",
   "execution_count": 3,
   "metadata": {},
   "outputs": [],
   "source": [
    "def findN(ang, a, b): # функция находит нормаль к плоскости\n",
    "    x = np.cos((ang * np.pi) / 180) * a\n",
    "    vec_1 = np.array([x, 0, np.sin((ang * np.pi) / 180) * a])\n",
    "    vec_2 = np.array([0, b, 0]) \n",
    "    N = np.cross(vec_1, vec_2)\n",
    "    return x, N"
   ]
  },
  {
   "cell_type": "code",
   "execution_count": 4,
   "metadata": {},
   "outputs": [],
   "source": [
    "def findZP(coord, v, N): # вычисление глубины\n",
    "    return v[2] - (N[0] * (coord[0] - v[0]) + N[1] * (coord[1] - v[1])) / N[2]"
   ]
  },
  {
   "cell_type": "code",
   "execution_count": 5,
   "metadata": {},
   "outputs": [],
   "source": [
    "def Draw(v, clr, ang, a, b, vp, z_buffer): # с буфером глубины\n",
    "    x, N = findN(ang, a, b)\n",
    "    x = int(x)\n",
    "    for i in range(v[0], v[0] + x):\n",
    "        for j in range(v[1] - b, v[1]):\n",
    "            zXY = z_buffer[i, j]\n",
    "            zP = findZP([i, j], v, N) # Функция, возвращающая глубину точки P\n",
    "            if zP > zXY:\n",
    "                z_buffer[i, j] = zP\n",
    "                vp[i, j] = clr #(clr)"
   ]
  },
  {
   "cell_type": "code",
   "execution_count": 11,
   "metadata": {},
   "outputs": [],
   "source": [
    "wx, wy = 180, 135\n",
    "vp = np.full((wx, wy, 3), 255, dtype='uint8')\n",
    "z_buffer = np.full((wx, wy), -np.inf)\n",
    "# clr0 = [255, 0, 0], v0 = (35, 10, 0); ang0 = 0; a0 = int(0.6 * wx); b0 = int(0.8 * wy)\n",
    "Draw((35, 10, 0), [255, 0, 0], 0, int(0.6 * wx), int(0.8 * wy), vp, z_buffer)\n",
    "# clr1 = [0, 255, 0], v1 = (10, 20, -50); ang1 = 45; a1 = int(0.8 * wx); b1 = int(0.6 * wy);\n",
    "Draw((10, 20, -50), [0, 255, 0], 45, int(0.8 * wx), int(0.6 * wy), vp, z_buffer)\n",
    "# clr2 = [0, 0, 255], v2 = (70, 30, 70); ang2 = -50; a2 = int(0.9 * wx); b2 = int(0.4 * wy)\n",
    "Draw((70, 30, 70), [0, 0, 255], -50, int(0.9 * wx), int(0.4 * wy), vp, z_buffer)"
   ]
  },
  {
   "cell_type": "code",
   "execution_count": 12,
   "metadata": {},
   "outputs": [
    {
     "data": {
      "text/plain": [
       "(-0.5, 134.5, 179.5, -0.5)"
      ]
     },
     "execution_count": 12,
     "metadata": {},
     "output_type": "execute_result"
    },
    {
     "data": {
      "image/png": "[encoded data removed]",
      "text/plain": [
       "<Figure size 432x288 with 1 Axes>"
      ]
     },
     "metadata": {
      "needs_background": "light"
     },
     "output_type": "display_data"
    }
   ],
   "source": [
    "plt.imshow(vp)\n",
    "plt.axis('off')"
   ]
  },
  {
   "cell_type": "code",
   "execution_count": 13,
   "metadata": {},
   "outputs": [],
   "source": [
    "def Draw_2(v, clr, ang, a, b, vp): # сцена без учета глубины\n",
    "    x, _ = findN(ang, a, b)\n",
    "    x = int(x)\n",
    "    for i in range(v[0], v[0] + x):\n",
    "        for j in range(v[1] - b, v[1]):\n",
    "#             zXY = z_buffer[i, j]\n",
    "#             zP = findZP([i, j], v, N) # Функция, возвращающая глубину точки P\n",
    "#             if zP > zXY:\n",
    "#                 z_buffer[i, j] = zP\n",
    "#                 vp[i, j] = clr #(clr)\n",
    "            vp[i, j] = clr"
   ]
  },
  {
   "cell_type": "code",
   "execution_count": 14,
   "metadata": {},
   "outputs": [],
   "source": [
    "vp_2 = np.full((wx, wy, 3), 255, dtype='uint8')\n",
    "# clr0 = [255, 0, 0], v0 = (35, 10, 0); ang0 = 0; a0 = int(0.6 * wx); b0 = int(0.8 * wy)\n",
    "Draw_2((35, 10, 0), [255, 0, 0], 0, int(0.6 * wx), int(0.8 * wy), vp_2)\n",
    "# clr1 = [0, 255, 0], v1 = (10, 20, -50); ang1 = 45; a1 = int(0.8 * wx); b1 = int(0.6 * wy);\n",
    "Draw_2((10, 20, -50), [0, 255, 0], 45, int(0.8 * wx), int(0.6 * wy), vp_2)\n",
    "# clr2 = [0, 0, 255], v2 = (70, 30, 70); ang2 = -50; a2 = int(0.9 * wx); b2 = int(0.4 * wy)\n",
    "Draw_2((70, 30, 70), [0, 0, 255], -50, int(0.9 * wx), int(0.4 * wy), vp_2)"
   ]
  },
  {
   "cell_type": "code",
   "execution_count": 15,
   "metadata": {},
   "outputs": [
    {
     "data": {
      "text/plain": [
       "(-0.5, 134.5, 179.5, -0.5)"
      ]
     },
     "execution_count": 15,
     "metadata": {},
     "output_type": "execute_result"
    },
    {
     "data": {
      "image/png": "[encoded data removed]",
      "text/plain": [
       "<Figure size 432x288 with 1 Axes>"
      ]
     },
     "metadata": {
      "needs_background": "light"
     },
     "output_type": "display_data"
    }
   ],
   "source": [
    "plt.imshow(vp_2)\n",
    "plt.axis('off')"
   ]
  },
  {
   "cell_type": "code",
   "execution_count": 18,
   "metadata": {},
   "outputs": [],
   "source": [
    "vp_3 = np.full((wx, wy, 3), 255, dtype='uint8')\n",
    "DrawLine(35, 0, 35 + int(0.6 * wx), 0, [255, 0, 0], vp_3)\n",
    "DrawLine(10 + np.cos((45 * np.pi) / 180) * int(0.8 * wx), 50 + np.sin((45 * np.pi) / 180) * int(0.8 * wx), 10, 50, [0, 255, 0], vp_3)\n",
    "DrawLine(70, 70, int(70 + np.cos((50 * np.pi) / 180) * int(0.9 * wx)), int(70 - np.sin((50 * np.pi) / 180) * int(0.9 * wx)), [0, 0, 255], vp_3)"
   ]
  },
  {
   "cell_type": "code",
   "execution_count": 19,
   "metadata": {},
   "outputs": [
    {
     "data": {
      "text/plain": [
       "(-0.5, 134.5, 179.5, -0.5)"
      ]
     },
     "execution_count": 19,
     "metadata": {},
     "output_type": "execute_result"
    },
    {
     "data": {
      "image/png": "[encoded data removed]",
      "text/plain": [
       "<Figure size 432x288 with 1 Axes>"
      ]
     },
     "metadata": {
      "needs_background": "light"
     },
     "output_type": "display_data"
    }
   ],
   "source": [
    "plt.imshow(vp_3)\n",
    "plt.axis('off')"
   ]
  },
  {
   "cell_type": "code",
   "execution_count": null,
   "metadata": {},
   "outputs": [],
   "source": []
  }
 ],
 "metadata": {
  "kernelspec": {
   "display_name": "Python 3",
   "language": "python",
   "name": "python3"
  },
  "language_info": {
   "codemirror_mode": {
    "name": "ipython",
    "version": 3
   },
   "file_extension": ".py",
   "mimetype": "text/x-python",
   "name": "python",
   "nbconvert_exporter": "python",
   "pygments_lexer": "ipython3",
   "version": "3.8.5"
  }
 },
 "nbformat": 4,
 "nbformat_minor": 4
}
